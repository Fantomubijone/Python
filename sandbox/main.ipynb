{
 "cells": [
  {
   "cell_type": "code",
   "execution_count": 1,
   "metadata": {},
   "outputs": [
    {
     "name": "stdout",
     "output_type": "stream",
     "text": [
      "Trial 1\n"
     ]
    }
   ],
   "source": [
    "print(\"Trial 1\")"
   ]
  },
  {
   "cell_type": "code",
   "execution_count": 1,
   "metadata": {},
   "outputs": [
    {
     "name": "stdout",
     "output_type": "stream",
     "text": [
      "1\n",
      "2\n",
      "3\n",
      "4\n",
      "5\n",
      "6\n",
      "7\n",
      "8\n",
      "9\n"
     ]
    }
   ],
   "source": [
    "i = 1\n",
    "while i<10:\n",
    "    print(i)\n",
    "    i+=1"
   ]
  },
  {
   "cell_type": "code",
   "execution_count": 5,
   "metadata": {},
   "outputs": [
    {
     "data": {
      "text/plain": [
       "<function TextIOWrapper.close()>"
      ]
     },
     "execution_count": 5,
     "metadata": {},
     "output_type": "execute_result"
    }
   ],
   "source": [
    "f = open('Python/sandbox/Welcome.txt', 'a+')\n",
    "f.write(\"Flat chested is better than Big Oppai\")\n",
    "line = f.readline()\n",
    "f.close"
   ]
  },
  {
   "cell_type": "code",
   "execution_count": 1,
   "metadata": {},
   "outputs": [
    {
     "name": "stdout",
     "output_type": "stream",
     "text": [
      "Printing current and previous number sum in a range(10)\n",
      "Current Number 0 Previous Number is 0 Sum = 0\n",
      "Current Number 1 Previous Number is 0 Sum = 1\n",
      "Current Number 2 Previous Number is 1 Sum = 3\n",
      "Current Number 3 Previous Number is 2 Sum = 5\n",
      "Current Number 4 Previous Number is 3 Sum = 7\n",
      "Current Number 5 Previous Number is 4 Sum = 9\n",
      "Current Number 6 Previous Number is 5 Sum = 11\n",
      "Current Number 7 Previous Number is 6 Sum = 13\n",
      "Current Number 8 Previous Number is 7 Sum = 15\n",
      "Current Number 9 Previous Number is 8 Sum = 17\n"
     ]
    }
   ],
   "source": [
    "\n",
    "print(\"Printing current and previous number sum in a range(10)\")\n",
    "\n",
    "prev = 0\n",
    "for x in range (0,10):\n",
    "    print(f\"Current Number {x} Previous Number is {prev} Sum = {x + prev}\")\n",
    "    prev = x"
   ]
  },
  {
   "cell_type": "code",
   "execution_count": 3,
   "metadata": {},
   "outputs": [
    {
     "name": "stdout",
     "output_type": "stream",
     "text": [
      "True\n"
     ]
    }
   ],
   "source": [
    "x = 1001\n",
    "y = 1001\n",
    "\n",
    "y = x\n",
    "\n",
    "print(x is y)"
   ]
  },
  {
   "cell_type": "code",
   "execution_count": 1,
   "metadata": {},
   "outputs": [
    {
     "name": "stdout",
     "output_type": "stream",
     "text": [
      "Enter num: <class 'int'>\n"
     ]
    }
   ],
   "source": [
    "print(\"Enter num: \", end =\"\")\n",
    "num = int(input())\n",
    "\n",
    "print(type(num))"
   ]
  }
 ],
 "metadata": {
  "kernelspec": {
   "display_name": "Python 3",
   "language": "python",
   "name": "python3"
  },
  "language_info": {
   "codemirror_mode": {
    "name": "ipython",
    "version": 3
   },
   "file_extension": ".py",
   "mimetype": "text/x-python",
   "name": "python",
   "nbconvert_exporter": "python",
   "pygments_lexer": "ipython3",
   "version": "3.12.1"
  }
 },
 "nbformat": 4,
 "nbformat_minor": 2
}
